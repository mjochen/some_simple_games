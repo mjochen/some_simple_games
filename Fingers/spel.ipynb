{
 "cells": [
  {
   "cell_type": "code",
   "execution_count": 23,
   "id": "d757da44",
   "metadata": {},
   "outputs": [],
   "source": [
    "nr_of_players = 2\n",
    "\n",
    "fingers = []\n",
    "for i in range(nr_of_players):\n",
    "    fingers.append({\"left\": 1, \"right\": 1, \"name\": f\"player {i+1}\"})\n"
   ]
  },
  {
   "cell_type": "code",
   "execution_count": 28,
   "id": "1c85fdb0",
   "metadata": {},
   "outputs": [
    {
     "name": "stdout",
     "output_type": "stream",
     "text": [
      "player 1 tikt player 1 met left naar right\n",
      "Mag niet! Die hand van de andere heeft geen vingers meer openstaan.\n",
      "player 1: links 1, rechts 1\n",
      "player 2: links 1, rechts 0\n"
     ]
    }
   ],
   "source": [
    "def next_player(player):\n",
    "    return (player + 1) % nr_of_players\n",
    "\n",
    "# assert(other_player(0) == 1)\n",
    "# assert(other_player(1) == 0)\n",
    "\n",
    "def tap(tapping_player, tapping_hand, tapped_player, tapped_hand):\n",
    "    print(f\"{fingers[tapping_player][\"name\"]} tikt {fingers[tapping_player][\"name\"]} met {tapping_hand} naar {tapped_hand}\")\n",
    "    if fingers[tapping_player][tapping_hand] == 0:\n",
    "        print(\"Mag niet! Die hand van jou heeft geen vingers meer openstaan.\")\n",
    "        return False\n",
    "    \n",
    "    if fingers[tapped_player][tapped_hand] == 0:\n",
    "        print(\"Mag niet! Die hand van de andere heeft geen vingers meer openstaan.\")\n",
    "        return False\n",
    "    \n",
    "    fingers[tapped_player][tapped_hand] += fingers[tapping_player][tapping_hand]\n",
    "    fingers[tapped_player][tapped_hand] = fingers[tapped_player][tapped_hand] % 5\n",
    "    return True\n",
    "\n",
    "tap(0, \"left\", 1, \"right\")\n",
    "# assert(fingers[1][\"right\"] == 2)\n",
    "\n",
    "def check_win():\n",
    "    for i, hands in enumerate(fingers):\n",
    "        if hands[\"left\"] + hands[\"right\"] == 0:\n",
    "            print(f\"{hands[\"name\"]} is out!\")\n",
    "            return i\n",
    "        \n",
    "    return False\n",
    "            \n",
    "def to_left_right(str):\n",
    "    if str[0].upper() == \"L\":\n",
    "        return \"left\"\n",
    "    else:\n",
    "        return \"right\"\n",
    "\n",
    "check_win()\n",
    "\n",
    "def print_hands():\n",
    "    for hands in fingers:\n",
    "        print(f\"{hands[\"name\"]}: links {hands[\"left\"]}, rechts {hands[\"right\"]}\")\n",
    "\n",
    "print_hands()"
   ]
  },
  {
   "cell_type": "code",
   "execution_count": 29,
   "id": "98398726",
   "metadata": {},
   "outputs": [
    {
     "name": "stdout",
     "output_type": "stream",
     "text": [
      "player 1: links 1, rechts 1\n",
      "player 2: links 1, rechts 0\n",
      "\n",
      "player 1is aan de beurt.\n",
      "player 1 tikt player 1 met left naar right\n",
      "Mag niet! Die hand van de andere heeft geen vingers meer openstaan.\n",
      "player 1: links 1, rechts 1\n",
      "player 2: links 1, rechts 0\n",
      "\n",
      "player 1is aan de beurt.\n",
      "player 1 tikt player 1 met right naar left\n",
      "player 1: links 1, rechts 1\n",
      "player 2: links 2, rechts 0\n",
      "\n",
      "player 2is aan de beurt.\n",
      "player 2 tikt player 2 met right naar left\n",
      "Mag niet! Die hand van jou heeft geen vingers meer openstaan.\n",
      "player 1: links 1, rechts 1\n",
      "player 2: links 2, rechts 0\n",
      "\n",
      "player 2is aan de beurt.\n",
      "player 2 tikt player 2 met left naar right\n",
      "player 1: links 1, rechts 3\n",
      "player 2: links 2, rechts 0\n",
      "\n",
      "player 1is aan de beurt.\n",
      "player 1 tikt player 1 met right naar left\n",
      "player 2 is out!\n"
     ]
    }
   ],
   "source": [
    "turn = 0\n",
    "\n",
    "while not(check_win()):\n",
    "    print_hands()\n",
    "    print(f\"\\n{fingers[turn][\"name\"]}is aan de beurt.\")\n",
    "    tapping = to_left_right(input(\"Welke hand gebruik jij? \"))\n",
    "    tapped =  to_left_right(input(\"Welke hand tik jij aan? \"))\n",
    "\n",
    "    if tap(turn, tapping, next_player(turn), tapped):\n",
    "        turn = next_player(turn)"
   ]
  }
 ],
 "metadata": {
  "kernelspec": {
   "display_name": "venv",
   "language": "python",
   "name": "python3"
  },
  "language_info": {
   "codemirror_mode": {
    "name": "ipython",
    "version": 3
   },
   "file_extension": ".py",
   "mimetype": "text/x-python",
   "name": "python",
   "nbconvert_exporter": "python",
   "pygments_lexer": "ipython3",
   "version": "3.13.3"
  }
 },
 "nbformat": 4,
 "nbformat_minor": 5
}
